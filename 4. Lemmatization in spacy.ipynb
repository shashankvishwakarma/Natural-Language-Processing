{
 "cells": [
  {
   "cell_type": "code",
   "execution_count": 1,
   "metadata": {},
   "outputs": [],
   "source": [
    "import spacy\n",
    "nlp = spacy.load(\"en_core_web_sm\")"
   ]
  },
  {
   "cell_type": "code",
   "execution_count": 2,
   "metadata": {},
   "outputs": [],
   "source": [
    "word_list1 = nlp('compute computer computed computing')\n",
    "word_list2 = nlp('studies leaves decreases plays')\n",
    "word_list3 = nlp('Study Studying Studies Studied')\n",
    "word_list4 = nlp('python pythoner pythoning pythoned pythonly')\n",
    "word_list5 = nlp('am is are was were')"
   ]
  },
  {
   "cell_type": "code",
   "execution_count": 3,
   "metadata": {},
   "outputs": [
    {
     "name": "stdout",
     "output_type": "stream",
     "text": [
      "compute         compute        \n",
      "computer        computer       \n",
      "computed        compute        \n",
      "computing       compute        \n"
     ]
    }
   ],
   "source": [
    "for token in word_list1:\n",
    "    print(f'{token!r:15} {token.lemma_:15}')"
   ]
  },
  {
   "cell_type": "code",
   "execution_count": 4,
   "metadata": {},
   "outputs": [
    {
     "name": "stdout",
     "output_type": "stream",
     "text": [
      "studies         study          \n",
      "leaves          leave          \n",
      "decreases       decrease       \n",
      "plays           play           \n"
     ]
    }
   ],
   "source": [
    "for token in word_list2:\n",
    "    print(f'{token!r:15} {token.lemma_:15}')"
   ]
  },
  {
   "cell_type": "code",
   "execution_count": 5,
   "metadata": {},
   "outputs": [
    {
     "name": "stdout",
     "output_type": "stream",
     "text": [
      "Study           study          \n",
      "Studying        study          \n",
      "Studies         study          \n",
      "Studied         study          \n"
     ]
    }
   ],
   "source": [
    "for token in word_list3:\n",
    "    print(f'{token!r:15} {token.lemma_:15}')"
   ]
  },
  {
   "cell_type": "code",
   "execution_count": 6,
   "metadata": {},
   "outputs": [
    {
     "name": "stdout",
     "output_type": "stream",
     "text": [
      "python          python         \n",
      "pythoner        pythoner       \n",
      "pythoning       pythone        \n",
      "pythoned        pythone        \n",
      "pythonly        pythonly       \n"
     ]
    }
   ],
   "source": [
    "for token in word_list4:\n",
    "    print(f'{token!r:15} {token.lemma_:15}')"
   ]
  },
  {
   "cell_type": "code",
   "execution_count": 7,
   "metadata": {},
   "outputs": [
    {
     "name": "stdout",
     "output_type": "stream",
     "text": [
      "am              be             \n",
      "is              be             \n",
      "are             be             \n",
      "was             be             \n",
      "were            be             \n"
     ]
    }
   ],
   "source": [
    "for token in word_list5:\n",
    "    print(f'{token!r:15} {token.lemma_:15}')"
   ]
  },
  {
   "cell_type": "code",
   "execution_count": 8,
   "metadata": {},
   "outputs": [
    {
     "name": "stdout",
     "output_type": "stream",
     "text": [
      "compute         compute        \n",
      "computer        computer       \n",
      "computed        compute        \n",
      "computing       compute        \n"
     ]
    }
   ],
   "source": [
    "example_text = nlp(\"compute computer computed computing\")\n",
    "for token in example_text:\n",
    "    print(f'{token!r:15} {token.lemma_:15}')"
   ]
  },
  {
   "cell_type": "code",
   "execution_count": 9,
   "metadata": {},
   "outputs": [
    {
     "name": "stdout",
     "output_type": "stream",
     "text": [
      "A               a              \n",
      "letter          letter         \n",
      "has             have           \n",
      "been            be             \n",
      "written         write          \n",
      ",               ,              \n",
      "asking          ask            \n",
      "him             he             \n",
      "to              to             \n",
      "be              be             \n",
      "released        release        \n"
     ]
    }
   ],
   "source": [
    "example_text = nlp(\"A letter has been written, asking him to be released\")\n",
    "for token in example_text:\n",
    "    print(f'{token!r:15} {token.lemma_:15}')"
   ]
  },
  {
   "cell_type": "code",
   "execution_count": null,
   "metadata": {},
   "outputs": [],
   "source": []
  }
 ],
 "metadata": {
  "kernelspec": {
   "display_name": "Python 3",
   "language": "python",
   "name": "python3"
  },
  "language_info": {
   "codemirror_mode": {
    "name": "ipython",
    "version": 3
   },
   "file_extension": ".py",
   "mimetype": "text/x-python",
   "name": "python",
   "nbconvert_exporter": "python",
   "pygments_lexer": "ipython3",
   "version": "3.8.5"
  }
 },
 "nbformat": 4,
 "nbformat_minor": 4
}
