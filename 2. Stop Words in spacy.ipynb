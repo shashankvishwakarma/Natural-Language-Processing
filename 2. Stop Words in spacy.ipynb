{
 "cells": [
  {
   "cell_type": "code",
   "execution_count": 1,
   "metadata": {},
   "outputs": [],
   "source": [
    "import spacy\n",
    "nlp = spacy.load(\"en_core_web_sm\")"
   ]
  },
  {
   "cell_type": "code",
   "execution_count": 2,
   "metadata": {},
   "outputs": [],
   "source": [
    "example_text = \"This is a sample sentence, showing off the stop words filtration.\""
   ]
  },
  {
   "cell_type": "code",
   "execution_count": 3,
   "metadata": {},
   "outputs": [
    {
     "data": {
      "text/plain": [
       "'This is a sample sentence, showing off the stop words filtration.'"
      ]
     },
     "execution_count": 3,
     "metadata": {},
     "output_type": "execute_result"
    }
   ],
   "source": [
    "example_text"
   ]
  },
  {
   "cell_type": "code",
   "execution_count": 4,
   "metadata": {},
   "outputs": [
    {
     "data": {
      "text/plain": [
       "This is a sample sentence, showing off the stop words filtration."
      ]
     },
     "execution_count": 4,
     "metadata": {},
     "output_type": "execute_result"
    }
   ],
   "source": [
    "example_doc = nlp(example_text)\n",
    "example_doc"
   ]
  },
  {
   "cell_type": "markdown",
   "metadata": {},
   "source": [
    "### List of stopwords"
   ]
  },
  {
   "cell_type": "code",
   "execution_count": 5,
   "metadata": {},
   "outputs": [
    {
     "name": "stdout",
     "output_type": "stream",
     "text": [
      "{'anyhow', 'empty', 'other', 'below', 'the', 'amount', 'throughout', 'among', 'i', 'show', 'few', 'wherein', 'mine', 'thereupon', 'some', 'became', 'together', 'for', 'seeming', 'whatever', 'next', 'down', 'quite', 'out', 'sometime', 'thereafter', 'herself', 'made', 'each', 'regarding', 'along', 'so', 'me', 'seems', 'in', 'five', 'of', 'also', 'these', 'this', 'than', 'meanwhile', 'same', 'doing', \"'ve\", 'more', 'must', 'something', 'has', 'itself', 'who', 'before', 'did', 'herein', 'us', 'by', 'latter', 'just', 'may', 'forty', 'yet', 'neither', 'beforehand', 'through', 'elsewhere', 'take', 'thru', 'otherwise', 'no', 'anything', 'have', 'over', '‘re', 'those', 'him', 'toward', 'do', 'say', 'twenty', 'alone', 'since', 'whoever', 'which', 'besides', 'such', 'was', 'can', 'whenever', 'ours', 'be', 'whereafter', 'very', 'and', 'their', 'please', 'move', 'others', 'eight', 'she', 'well', 'various', 'therefore', 'between', 'whereby', 'might', 'fifty', 'front', 'three', 'you', 'again', 'already', 'anyway', 'become', 'nowhere', 'latterly', 'never', 'to', 'onto', 'always', 'will', 'enough', 'thus', 'give', 'around', 'ourselves', 'twelve', 'fifteen', '’m', 'on', 'even', 'upon', 'although', 'everything', 'four', 'many', 'several', 'n’t', 'he', 'top', 'namely', 'could', 'due', 'first', 'your', 'off', 'hereafter', 'myself', 'am', 'his', 'anyone', 'every', 'least', 'then', 'our', 'nothing', 'third', 'either', 'any', 'nevertheless', 'except', 'does', 'ever', 'ca', 'her', 'further', 'nor', 'both', \"'m\", 'much', 'whether', 'is', 'mostly', 'from', 'being', 'where', 'hereby', 'perhaps', 'often', 'would', \"'d\", 'until', 'hers', 'thence', 'all', 'n‘t', 'somehow', 'formerly', 'whence', \"'re\", 'last', '‘d', 'get', 'rather', 'yourself', 'only', 'if', 'make', 'against', 'call', 'now', 'here', 'becoming', 'part', 'been', 'six', 'whole', 'above', '’ll', 'amongst', \"'ll\", 'an', 'too', 'another', 'however', 'nine', 'at', 'them', 'about', 'had', 'using', 'else', 'beyond', 'moreover', '‘ll', 'former', 'sixty', \"n't\", 'becomes', 'nobody', 'during', 'were', 'one', 'himself', 'put', 'it', 'though', 'into', '’s', 'my', 'wherever', 'anywhere', 'eleven', '‘s', 'still', '‘m', 'own', 'everyone', 'back', 'thereby', 'within', 'seemed', 'go', 'keep', 'without', 're', 'indeed', 'none', 'see', 'whose', 'while', 'why', 'hereupon', 'should', 'towards', 'full', '’d', 'whither', 'across', 'side', 'a', 'therein', 'ten', 'two', 'name', 'we', 'but', 'everywhere', 'less', 'somewhere', 'afterwards', 'what', 'sometimes', 'they', 'bottom', 'or', 'themselves', 'yours', 'most', 'hundred', 'not', 'how', 'whom', 'its', 'behind', 'whereas', '’re', '‘ve', 'with', 'up', 'once', 'via', 'because', 'unless', 'that', 'really', \"'s\", 'per', 'whereupon', '’ve', 'someone', 'cannot', 'as', 'beside', 'are', 'when', 'almost', 'done', 'yourselves', 'used', 'after', 'there', 'serious', 'under', 'noone', 'seem', 'hence'}\n"
     ]
    }
   ],
   "source": [
    "spacy_stopwords = spacy.lang.en.stop_words.STOP_WORDS\n",
    "print(spacy_stopwords)"
   ]
  },
  {
   "cell_type": "markdown",
   "metadata": {},
   "source": [
    "### Stopwords length"
   ]
  },
  {
   "cell_type": "code",
   "execution_count": 6,
   "metadata": {},
   "outputs": [
    {
     "data": {
      "text/plain": [
       "326"
      ]
     },
     "execution_count": 6,
     "metadata": {},
     "output_type": "execute_result"
    }
   ],
   "source": [
    "len(spacy_stopwords)"
   ]
  },
  {
   "cell_type": "markdown",
   "metadata": {},
   "source": [
    "### Sentence without stop words"
   ]
  },
  {
   "cell_type": "code",
   "execution_count": 7,
   "metadata": {},
   "outputs": [
    {
     "data": {
      "text/plain": [
       "[sample, sentence, ,, showing, stop, words, filtration, .]"
      ]
     },
     "execution_count": 7,
     "metadata": {},
     "output_type": "execute_result"
    }
   ],
   "source": [
    "sentence_without_stop_words = [token \n",
    "                               for token in example_doc \n",
    "                               if not token.is_stop]\n",
    "sentence_without_stop_words"
   ]
  },
  {
   "cell_type": "markdown",
   "metadata": {},
   "source": [
    "## Removing punctuation and stop words both"
   ]
  },
  {
   "cell_type": "code",
   "execution_count": 8,
   "metadata": {},
   "outputs": [
    {
     "data": {
      "text/plain": [
       "[sample, sentence, showing, stop, words, filtration]"
      ]
     },
     "execution_count": 8,
     "metadata": {},
     "output_type": "execute_result"
    }
   ],
   "source": [
    "sentence_without_stop_words_and_punctuation = [token \n",
    "                                               for token in example_doc \n",
    "                                               if not token.is_stop and not token.is_punct]\n",
    "sentence_without_stop_words_and_punctuation"
   ]
  },
  {
   "cell_type": "code",
   "execution_count": 9,
   "metadata": {},
   "outputs": [
    {
     "data": {
      "text/plain": [
       "Sample message! Notice: it has punctuation."
      ]
     },
     "execution_count": 9,
     "metadata": {},
     "output_type": "execute_result"
    }
   ],
   "source": [
    "example_doc = nlp('Sample message! Notice: it has punctuation.')\n",
    "example_doc"
   ]
  },
  {
   "cell_type": "code",
   "execution_count": 10,
   "metadata": {},
   "outputs": [
    {
     "data": {
      "text/plain": [
       "[Sample, message, Notice, punctuation]"
      ]
     },
     "execution_count": 10,
     "metadata": {},
     "output_type": "execute_result"
    }
   ],
   "source": [
    "sentence_without_stop_words_and_punctuation = [token \n",
    "                                               for token in example_doc \n",
    "                                               if not token.is_stop and not token.is_punct]\n",
    "sentence_without_stop_words_and_punctuation"
   ]
  },
  {
   "cell_type": "code",
   "execution_count": null,
   "metadata": {},
   "outputs": [],
   "source": []
  }
 ],
 "metadata": {
  "kernelspec": {
   "display_name": "Python 3",
   "language": "python",
   "name": "python3"
  },
  "language_info": {
   "codemirror_mode": {
    "name": "ipython",
    "version": 3
   },
   "file_extension": ".py",
   "mimetype": "text/x-python",
   "name": "python",
   "nbconvert_exporter": "python",
   "pygments_lexer": "ipython3",
   "version": "3.8.5"
  }
 },
 "nbformat": 4,
 "nbformat_minor": 4
}
