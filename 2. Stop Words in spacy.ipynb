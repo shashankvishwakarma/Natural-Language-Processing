{
 "cells": [
  {
   "cell_type": "code",
   "execution_count": 1,
   "metadata": {},
   "outputs": [],
   "source": [
    "import spacy\n",
    "nlp = spacy.load(\"en_core_web_sm\")"
   ]
  },
  {
   "cell_type": "code",
   "execution_count": 2,
   "metadata": {},
   "outputs": [],
   "source": [
    "example_text = \"This is a sample sentence, showing off the stop words filtration.\""
   ]
  },
  {
   "cell_type": "code",
   "execution_count": 3,
   "metadata": {},
   "outputs": [
    {
     "data": {
      "text/plain": [
       "'This is a sample sentence, showing off the stop words filtration.'"
      ]
     },
     "execution_count": 3,
     "metadata": {},
     "output_type": "execute_result"
    }
   ],
   "source": [
    "example_text"
   ]
  },
  {
   "cell_type": "code",
   "execution_count": 4,
   "metadata": {},
   "outputs": [
    {
     "data": {
      "text/plain": [
       "This is a sample sentence, showing off the stop words filtration."
      ]
     },
     "execution_count": 4,
     "metadata": {},
     "output_type": "execute_result"
    }
   ],
   "source": [
    "example_doc = nlp(example_text)\n",
    "example_doc"
   ]
  },
  {
   "cell_type": "markdown",
   "metadata": {},
   "source": [
    "### List of stopwords"
   ]
  },
  {
   "cell_type": "code",
   "execution_count": 5,
   "metadata": {},
   "outputs": [
    {
     "name": "stdout",
     "output_type": "stream",
     "text": [
      "{'below', 'over', 'however', 'per', 'say', 'get', 'herself', 'not', 'wherever', 'after', 'itself', 'due', 'thereby', 'four', 'have', 'well', 'nine', 'more', 'afterwards', 'one', 'every', 'to', 'i', 'became', 'other', 'nobody', 'if', 'between', 'elsewhere', 'keep', '’m', 'down', 'who', 'another', 'on', 'does', 'moreover', 'we', 'me', 'just', 'these', 'even', 'whither', 'through', 'less', 'five', 'give', '’ll', 'former', 'until', 'because', 'a', 'yourselves', 'what', 'several', 'serious', 'nor', 'via', 'last', 'ten', 'its', 'cannot', 'an', 'eight', 'may', 'do', 'only', 'hence', 'back', 'go', 'either', 'first', 'anywhere', 'toward', 'whom', 'ours', 'above', 'whatever', 'somehow', 'while', 'or', 'should', 'therein', 'within', 'myself', \"'re\", 'quite', 'whereafter', 'hereby', 'with', 'indeed', 'for', 'else', 'their', 'beside', 'twenty', 'almost', 'whole', 'whenever', 'each', 'much', 'upon', 'towards', 'himself', 'without', \"n't\", 'once', 'out', 'whoever', 'name', 'rather', 'next', 'few', 'many', 'somewhere', 'yet', 'done', 'made', 'must', 'everywhere', 'twelve', 'hers', 'across', 'into', \"'ll\", 'part', 'noone', 'using', 'but', 'everyone', 'around', 'some', 'neither', 'amount', 'herein', 'here', 'at', 'call', 'both', 'therefore', 'her', 'again', 'put', 'can', 'perhaps', 'enough', 'such', 'own', 'except', 'than', 'been', 'although', 'thereupon', 'will', 'be', 'am', 'further', \"'d\", 'nevertheless', 'under', 'he', 'ca', 'when', 'us', 'seem', '‘ll', 'sometimes', 'sixty', 'the', '’ve', 'among', 'see', 'those', \"'ve\", 'very', 'wherein', 'becomes', 'third', 'seems', 'his', 'yourself', 'then', 'anything', 'anyhow', 'unless', 'you', 'thence', 'she', 'whether', 're', 'being', 'off', 'various', 'seeming', 'is', 'in', 'by', '’re', 'as', 'formerly', 'someone', 'anyone', 'so', 'where', 'against', 'n’t', 'are', 'still', 'how', '‘ve', 'since', 'your', 'together', 'always', 'before', 'did', 'n‘t', 'them', 'which', 'why', 'themselves', 'anyway', 'amongst', 'ever', 'beforehand', 'become', 'latter', 'had', 'thus', 'there', 'up', 'throughout', 'from', 'take', '‘m', 'hundred', 'him', 'side', 'six', 'of', 'during', 'three', 'they', 'whereas', 'nowhere', 'most', 'besides', 'none', 'namely', 'our', 'my', 'really', 'regarding', 'something', 'too', 'were', 'full', 'whose', 'behind', 'whereupon', 'now', '’s', 'others', 'eleven', 'along', 'this', '‘s', 'also', 'and', 'move', 'beyond', 'seemed', 'front', 'becoming', \"'s\", 'meanwhile', 'often', 'forty', 'whereby', 'show', 'all', '‘re', 'everything', 'doing', 'never', \"'m\", 'sometime', 'was', 'latterly', 'alone', 'otherwise', 'used', 'might', 'mine', 'two', 'already', 'empty', 'mostly', 'onto', 'hereupon', 'any', 'about', 'has', 'least', 'whence', 'fifty', 'ourselves', 'yours', '’d', 'no', 'though', 'nothing', 'top', 'thru', 'bottom', 'please', 'could', 'it', 'same', 'make', 'thereafter', '‘d', 'fifteen', 'hereafter', 'would', 'that'}\n"
     ]
    }
   ],
   "source": [
    "spacy_stopwords = spacy.lang.en.stop_words.STOP_WORDS\n",
    "print(spacy_stopwords)"
   ]
  },
  {
   "cell_type": "markdown",
   "metadata": {},
   "source": [
    "### Stopwords length"
   ]
  },
  {
   "cell_type": "code",
   "execution_count": 6,
   "metadata": {},
   "outputs": [
    {
     "data": {
      "text/plain": [
       "326"
      ]
     },
     "execution_count": 6,
     "metadata": {},
     "output_type": "execute_result"
    }
   ],
   "source": [
    "len(spacy_stopwords)"
   ]
  },
  {
   "cell_type": "markdown",
   "metadata": {},
   "source": [
    "### Sentence without stop words"
   ]
  },
  {
   "cell_type": "code",
   "execution_count": 7,
   "metadata": {},
   "outputs": [
    {
     "name": "stdout",
     "output_type": "stream",
     "text": [
      "This                0          1\n",
      "is                  0          1\n",
      "a                   0          1\n",
      "sample              0          0\n",
      "sentence            0          0\n",
      ",                   1          0\n",
      "showing             0          0\n",
      "off                 0          1\n",
      "the                 0          1\n",
      "stop                0          0\n",
      "words               0          0\n",
      "filtration          0          0\n",
      ".                   1          0\n"
     ]
    }
   ],
   "source": [
    "for token in example_doc:\n",
    "    print(f'{token!r:10} {token.is_punct:10} {token.is_stop:10}')"
   ]
  },
  {
   "cell_type": "code",
   "execution_count": 8,
   "metadata": {},
   "outputs": [
    {
     "data": {
      "text/plain": [
       "[sample, sentence, ,, showing, stop, words, filtration, .]"
      ]
     },
     "execution_count": 8,
     "metadata": {},
     "output_type": "execute_result"
    }
   ],
   "source": [
    "sentence_without_stop_words = [token \n",
    "                               for token in example_doc \n",
    "                               if not token.is_stop]\n",
    "sentence_without_stop_words"
   ]
  },
  {
   "cell_type": "markdown",
   "metadata": {},
   "source": [
    "## Removing punctuation and stop words both"
   ]
  },
  {
   "cell_type": "code",
   "execution_count": 9,
   "metadata": {},
   "outputs": [
    {
     "data": {
      "text/plain": [
       "[sample, sentence, showing, stop, words, filtration]"
      ]
     },
     "execution_count": 9,
     "metadata": {},
     "output_type": "execute_result"
    }
   ],
   "source": [
    "sentence_without_stop_words_and_punctuation = [token \n",
    "                                               for token in example_doc \n",
    "                                               if not token.is_stop and not token.is_punct]\n",
    "sentence_without_stop_words_and_punctuation"
   ]
  },
  {
   "cell_type": "code",
   "execution_count": 10,
   "metadata": {},
   "outputs": [
    {
     "data": {
      "text/plain": [
       "Sample message! Notice: it has punctuation."
      ]
     },
     "execution_count": 10,
     "metadata": {},
     "output_type": "execute_result"
    }
   ],
   "source": [
    "example_doc = nlp('Sample message! Notice: it has punctuation.')\n",
    "example_doc"
   ]
  },
  {
   "cell_type": "code",
   "execution_count": 11,
   "metadata": {},
   "outputs": [
    {
     "name": "stdout",
     "output_type": "stream",
     "text": [
      "Sample              0          0\n",
      "message             0          0\n",
      "!                   1          0\n",
      "Notice              0          0\n",
      ":                   1          0\n",
      "it                  0          1\n",
      "has                 0          1\n",
      "punctuation          0          0\n",
      ".                   1          0\n"
     ]
    }
   ],
   "source": [
    "for token in example_doc:\n",
    "    print(f'{token!r:10} {token.is_punct:10} {token.is_stop:10}')"
   ]
  },
  {
   "cell_type": "code",
   "execution_count": 12,
   "metadata": {},
   "outputs": [
    {
     "data": {
      "text/plain": [
       "[Sample, message, Notice, punctuation]"
      ]
     },
     "execution_count": 12,
     "metadata": {},
     "output_type": "execute_result"
    }
   ],
   "source": [
    "sentence_without_stop_words_and_punctuation = [token \n",
    "                                               for token in example_doc \n",
    "                                               if not token.is_stop and not token.is_punct]\n",
    "sentence_without_stop_words_and_punctuation"
   ]
  },
  {
   "cell_type": "code",
   "execution_count": null,
   "metadata": {},
   "outputs": [],
   "source": []
  }
 ],
 "metadata": {
  "kernelspec": {
   "display_name": "Python 3",
   "language": "python",
   "name": "python3"
  },
  "language_info": {
   "codemirror_mode": {
    "name": "ipython",
    "version": 3
   },
   "file_extension": ".py",
   "mimetype": "text/x-python",
   "name": "python",
   "nbconvert_exporter": "python",
   "pygments_lexer": "ipython3",
   "version": "3.8.5"
  }
 },
 "nbformat": 4,
 "nbformat_minor": 4
}
