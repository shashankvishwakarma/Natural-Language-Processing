{
 "cells": [
  {
   "cell_type": "code",
   "execution_count": 1,
   "metadata": {},
   "outputs": [],
   "source": [
    "from nltk import WordNetLemmatizer"
   ]
  },
  {
   "cell_type": "code",
   "execution_count": 2,
   "metadata": {},
   "outputs": [],
   "source": [
    "word_list1 = ['compute', 'computer', 'computed', 'computing']\n",
    "word_list2 = [\"studies\", \"leaves\", \"decreases\", \"plays\"]\n",
    "word_list3 = [\"Study\", \"Studying\", \"Studies\", \"Studied\"]\n",
    "word_list4 = [\"python\", \"pythoner\", \"pythoning\", \"pythoned\", \"pythonly\"]\n",
    "word_list5 = [\"am\", \"is\", \"are\", \"was\", \"were\"]"
   ]
  },
  {
   "cell_type": "markdown",
   "metadata": {},
   "source": [
    "### WordNetLemmatizer"
   ]
  },
  {
   "cell_type": "code",
   "execution_count": 3,
   "metadata": {},
   "outputs": [],
   "source": [
    "lemmatizer = WordNetLemmatizer()"
   ]
  },
  {
   "cell_type": "code",
   "execution_count": 4,
   "metadata": {},
   "outputs": [
    {
     "name": "stdout",
     "output_type": "stream",
     "text": [
      "compute         compute        \n",
      "computer        computer       \n",
      "computed        computed       \n",
      "computing       computing      \n"
     ]
    }
   ],
   "source": [
    "for token in word_list1:\n",
    "    print(f'{token:15} {lemmatizer.lemmatize(token):15}')"
   ]
  },
  {
   "cell_type": "code",
   "execution_count": 5,
   "metadata": {},
   "outputs": [
    {
     "name": "stdout",
     "output_type": "stream",
     "text": [
      "studies         study          \n",
      "leaves          leaf           \n",
      "decreases       decrease       \n",
      "plays           play           \n"
     ]
    }
   ],
   "source": [
    "for token in word_list2:\n",
    "    print(f'{token:15} {lemmatizer.lemmatize(token):15}')"
   ]
  },
  {
   "cell_type": "code",
   "execution_count": 6,
   "metadata": {},
   "outputs": [
    {
     "name": "stdout",
     "output_type": "stream",
     "text": [
      "Study           Study          \n",
      "Studying        Studying       \n",
      "Studies         Studies        \n",
      "Studied         Studied        \n"
     ]
    }
   ],
   "source": [
    "for token in word_list3:\n",
    "    print(f'{token:15} {lemmatizer.lemmatize(token,pos=\"v\"):15}')"
   ]
  },
  {
   "cell_type": "code",
   "execution_count": 7,
   "metadata": {},
   "outputs": [
    {
     "name": "stdout",
     "output_type": "stream",
     "text": [
      "python          python         \n",
      "pythoner        pythoner       \n",
      "pythoning       pythoning      \n",
      "pythoned        pythoned       \n",
      "pythonly        pythonly       \n"
     ]
    }
   ],
   "source": [
    "for token in word_list4:\n",
    "    print(f'{token:15} {lemmatizer.lemmatize(token,pos=\"v\"):15}')"
   ]
  },
  {
   "cell_type": "code",
   "execution_count": 8,
   "metadata": {},
   "outputs": [
    {
     "name": "stdout",
     "output_type": "stream",
     "text": [
      "am              be             \n",
      "is              be             \n",
      "are             be             \n",
      "was             be             \n",
      "were            be             \n"
     ]
    }
   ],
   "source": [
    "for token in word_list5:\n",
    "    print(f'{token:15} {lemmatizer.lemmatize(token,pos=\"v\"):15}')"
   ]
  },
  {
   "cell_type": "code",
   "execution_count": 9,
   "metadata": {},
   "outputs": [
    {
     "name": "stdout",
     "output_type": "stream",
     "text": [
      "studying\n",
      "study\n",
      "studying\n",
      "studying\n",
      "studying\n"
     ]
    }
   ],
   "source": [
    "print(lemmatizer.lemmatize('studying'))\n",
    "print(lemmatizer.lemmatize('studying', pos=\"v\"))\n",
    "print(lemmatizer.lemmatize('studying', pos=\"n\"))\n",
    "print(lemmatizer.lemmatize('studying', pos=\"a\"))\n",
    "print(lemmatizer.lemmatize('studying', pos=\"r\"))"
   ]
  },
  {
   "cell_type": "code",
   "execution_count": 10,
   "metadata": {},
   "outputs": [],
   "source": [
    "from nltk import word_tokenize"
   ]
  },
  {
   "cell_type": "code",
   "execution_count": 11,
   "metadata": {},
   "outputs": [],
   "source": [
    "example_text = \"compute computer computed computing\"\n",
    "words = word_tokenize(example_text)"
   ]
  },
  {
   "cell_type": "code",
   "execution_count": 12,
   "metadata": {},
   "outputs": [
    {
     "name": "stdout",
     "output_type": "stream",
     "text": [
      "compute         compute        \n",
      "computer        computer       \n",
      "computed        compute        \n",
      "computing       compute        \n"
     ]
    }
   ],
   "source": [
    "for token in words:\n",
    "    print(f'{token:15} {lemmatizer.lemmatize(token,pos=\"v\"):15}')"
   ]
  },
  {
   "cell_type": "code",
   "execution_count": 13,
   "metadata": {},
   "outputs": [],
   "source": [
    "example_text = \"A letter has been written, asking him to be released\"\n",
    "words = word_tokenize(example_text)"
   ]
  },
  {
   "cell_type": "code",
   "execution_count": 14,
   "metadata": {},
   "outputs": [
    {
     "name": "stdout",
     "output_type": "stream",
     "text": [
      "A               A              \n",
      "letter          letter         \n",
      "has             have           \n",
      "been            be             \n",
      "written         write          \n",
      ",               ,              \n",
      "asking          ask            \n",
      "him             him            \n",
      "to              to             \n",
      "be              be             \n",
      "released        release        \n"
     ]
    }
   ],
   "source": [
    "for token in words:\n",
    "    print(f'{token:15} {lemmatizer.lemmatize(token,pos=\"v\"):15}')"
   ]
  },
  {
   "cell_type": "code",
   "execution_count": null,
   "metadata": {},
   "outputs": [],
   "source": []
  }
 ],
 "metadata": {
  "kernelspec": {
   "display_name": "Python 3",
   "language": "python",
   "name": "python3"
  },
  "language_info": {
   "codemirror_mode": {
    "name": "ipython",
    "version": 3
   },
   "file_extension": ".py",
   "mimetype": "text/x-python",
   "name": "python",
   "nbconvert_exporter": "python",
   "pygments_lexer": "ipython3",
   "version": "3.8.5"
  }
 },
 "nbformat": 4,
 "nbformat_minor": 4
}
