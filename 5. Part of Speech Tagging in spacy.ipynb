{
 "cells": [
  {
   "cell_type": "code",
   "execution_count": 1,
   "metadata": {},
   "outputs": [],
   "source": [
    "import spacy\n",
    "nlp = spacy.load(\"en_core_web_sm\")"
   ]
  },
  {
   "cell_type": "code",
   "execution_count": 2,
   "metadata": {},
   "outputs": [
    {
     "name": "stdout",
     "output_type": "stream",
     "text": [
      "Studying   VERB      \n",
      "Study      NOUN      \n"
     ]
    }
   ],
   "source": [
    "sentence = nlp(\"Studying Study\")\n",
    "for w in sentence:\n",
    "    print (f'{w!r:10} {w.pos_:10}')"
   ]
  },
  {
   "cell_type": "code",
   "execution_count": 3,
   "metadata": {},
   "outputs": [
    {
     "name": "stdout",
     "output_type": "stream",
     "text": [
      "A          DET       \n",
      "very       ADV       \n",
      "beautiful  ADJ       \n",
      "young      ADJ       \n",
      "lady       NOUN      \n",
      "is         AUX       \n",
      "walking    VERB      \n",
      "on         ADP       \n",
      "the        DET       \n",
      "beach      NOUN      \n"
     ]
    }
   ],
   "source": [
    "sentence = nlp(\"A very beautiful young lady is walking on the beach\")\n",
    "\n",
    "for w in sentence:\n",
    "    print (f'{w!r:10} {w.pos_:10}')"
   ]
  },
  {
   "cell_type": "code",
   "execution_count": 4,
   "metadata": {},
   "outputs": [
    {
     "name": "stdout",
     "output_type": "stream",
     "text": [
      "Natural    PROPN     \n",
      "Language   PROPN     \n",
      "Toolkit    PROPN     \n",
      ",          PUNCT     \n",
      "or         CCONJ     \n",
      "more       ADV       \n",
      "commonly   ADV       \n",
      "NLTK       PROPN     \n",
      ".          PUNCT     \n"
     ]
    }
   ],
   "source": [
    "sentence = nlp(\"Natural Language Toolkit, or more commonly NLTK.\")\n",
    "\n",
    "for w in sentence:\n",
    "    print (f'{w!r:10} {w.pos_:10}')"
   ]
  },
  {
   "cell_type": "code",
   "execution_count": null,
   "metadata": {},
   "outputs": [],
   "source": []
  }
 ],
 "metadata": {
  "kernelspec": {
   "display_name": "Python 3",
   "language": "python",
   "name": "python3"
  },
  "language_info": {
   "codemirror_mode": {
    "name": "ipython",
    "version": 3
   },
   "file_extension": ".py",
   "mimetype": "text/x-python",
   "name": "python",
   "nbconvert_exporter": "python",
   "pygments_lexer": "ipython3",
   "version": "3.8.5"
  }
 },
 "nbformat": 4,
 "nbformat_minor": 4
}
