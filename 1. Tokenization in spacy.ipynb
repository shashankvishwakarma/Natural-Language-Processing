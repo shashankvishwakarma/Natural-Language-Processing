{
 "cells": [
  {
   "cell_type": "code",
   "execution_count": 1,
   "metadata": {},
   "outputs": [],
   "source": [
    "###Import required libraries\n",
    "import spacy\n",
    "nlp = spacy.load('en_core_web_sm')"
   ]
  },
  {
   "cell_type": "code",
   "execution_count": 2,
   "metadata": {},
   "outputs": [],
   "source": [
    "example_text = \"Hello Mr. Smith, how are you doing today? \" \\\n",
    "               \"The weather is great, and Python is awesome. \" \\\n",
    "               \"The sky is pinkish-blue. \" \\\n",
    "               \"You shouldn't eat cardboard.\""
   ]
  },
  {
   "cell_type": "code",
   "execution_count": 3,
   "metadata": {},
   "outputs": [
    {
     "data": {
      "text/plain": [
       "Hello Mr. Smith, how are you doing today? The weather is great, and Python is awesome. The sky is pinkish-blue. You shouldn't eat cardboard."
      ]
     },
     "execution_count": 3,
     "metadata": {},
     "output_type": "execute_result"
    }
   ],
   "source": [
    "introduction_doc = nlp(example_text)\n",
    "introduction_doc"
   ]
  },
  {
   "cell_type": "markdown",
   "metadata": {},
   "source": [
    "### Sentence Detection"
   ]
  },
  {
   "cell_type": "code",
   "execution_count": 4,
   "metadata": {},
   "outputs": [
    {
     "data": {
      "text/plain": [
       "[Hello Mr. Smith, how are you doing today?,\n",
       " The weather is great, and Python is awesome.,\n",
       " The sky is pinkish-blue.,\n",
       " You shouldn't eat cardboard.]"
      ]
     },
     "execution_count": 4,
     "metadata": {},
     "output_type": "execute_result"
    }
   ],
   "source": [
    "sentences = list(introduction_doc.sents)\n",
    "sentences"
   ]
  },
  {
   "cell_type": "code",
   "execution_count": 5,
   "metadata": {},
   "outputs": [
    {
     "name": "stdout",
     "output_type": "stream",
     "text": [
      "Hello Mr. Smith, how are you doing today?\n",
      "The weather is great, and Python is awesome.\n",
      "The sky is pinkish-blue.\n",
      "You shouldn't eat cardboard.\n"
     ]
    }
   ],
   "source": [
    "for sentence in sentences:\n",
    "    print(sentence)"
   ]
  },
  {
   "cell_type": "markdown",
   "metadata": {},
   "source": [
    "### How many sentences are there?"
   ]
  },
  {
   "cell_type": "code",
   "execution_count": 6,
   "metadata": {},
   "outputs": [
    {
     "data": {
      "text/plain": [
       "4"
      ]
     },
     "execution_count": 6,
     "metadata": {},
     "output_type": "execute_result"
    }
   ],
   "source": [
    "len(sentences)"
   ]
  },
  {
   "cell_type": "markdown",
   "metadata": {},
   "source": [
    "### Tokenize the text with words"
   ]
  },
  {
   "cell_type": "code",
   "execution_count": 7,
   "metadata": {},
   "outputs": [
    {
     "name": "stdout",
     "output_type": "stream",
     "text": [
      "Hello          0 Hello               1                    0          0          0\n",
      "Mr.            6 Mr.                 0                    0          0          0\n",
      "Smith         10 Smith               1                    0          0          0\n",
      ",             15 ,                   0                    1          0          0\n",
      "how           17 how                 1                    0          0          1\n",
      "are           21 are                 1                    0          0          1\n",
      "you           25 you                 1                    0          0          1\n",
      "doing         29 doing               1                    0          0          1\n",
      "today         35 today               1                    0          0          0\n",
      "?             40 ?                   0                    1          0          0\n",
      "The           42 The                 1                    0          0          1\n",
      "weather       46 weather             1                    0          0          0\n",
      "is            54 is                  1                    0          0          1\n",
      "great         57 great               1                    0          0          0\n",
      ",             62 ,                   0                    1          0          0\n",
      "and           64 and                 1                    0          0          1\n",
      "Python        68 Python              1                    0          0          0\n",
      "is            75 is                  1                    0          0          1\n",
      "awesome       78 awesome             1                    0          0          0\n",
      ".             85 .                   0                    1          0          0\n",
      "The           87 The                 1                    0          0          1\n",
      "sky           91 sky                 1                    0          0          0\n",
      "is            95 is                  1                    0          0          1\n",
      "pinkish       98 pinkish             1                    0          0          0\n",
      "-            105 -                   0                    1          0          0\n",
      "blue         106 blue                1                    0          0          0\n",
      ".            110 .                   0                    1          0          0\n",
      "You          112 You                 1                    0          0          1\n",
      "should       116 should              1                    0          0          1\n",
      "n't          122 n't                 0                    0          0          1\n",
      "eat          126 eat                 1                    0          0          0\n",
      "cardboard    130 cardboard           1                    0          0          0\n",
      ".            139 .                   0                    1          0          0\n"
     ]
    }
   ],
   "source": [
    "for token in introduction_doc:\n",
    "    print(f'{token!r:10} {token.idx:5} {token.text_with_ws:10} {token.is_alpha:10} \\\n",
    "          {token.is_punct:10} {token.is_space:10} {token.is_stop:10}')"
   ]
  },
  {
   "cell_type": "markdown",
   "metadata": {},
   "source": [
    "### Import required libraries"
   ]
  },
  {
   "cell_type": "code",
   "execution_count": 8,
   "metadata": {},
   "outputs": [],
   "source": [
    "from collections import Counter"
   ]
  },
  {
   "cell_type": "markdown",
   "metadata": {},
   "source": [
    "### Find words frequency"
   ]
  },
  {
   "cell_type": "code",
   "execution_count": 9,
   "metadata": {},
   "outputs": [
    {
     "data": {
      "text/plain": [
       "Counter({'Hello': 1,\n",
       "         'Mr.': 1,\n",
       "         'Smith': 1,\n",
       "         'today': 1,\n",
       "         'weather': 1,\n",
       "         'great': 1,\n",
       "         'Python': 1,\n",
       "         'awesome': 1,\n",
       "         'sky': 1,\n",
       "         'pinkish': 1,\n",
       "         'blue': 1,\n",
       "         'eat': 1,\n",
       "         'cardboard': 1})"
      ]
     },
     "execution_count": 9,
     "metadata": {},
     "output_type": "execute_result"
    }
   ],
   "source": [
    "words = [token.text\n",
    "         for token in introduction_doc\n",
    "         if not token.is_stop and not token.is_punct]\n",
    "word_freq = Counter(words)\n",
    "word_freq"
   ]
  },
  {
   "cell_type": "markdown",
   "metadata": {},
   "source": [
    "### Print 10 most common words :"
   ]
  },
  {
   "cell_type": "code",
   "execution_count": 10,
   "metadata": {},
   "outputs": [
    {
     "data": {
      "text/plain": [
       "[('Hello', 1),\n",
       " ('Mr.', 1),\n",
       " ('Smith', 1),\n",
       " ('today', 1),\n",
       " ('weather', 1),\n",
       " ('great', 1),\n",
       " ('Python', 1),\n",
       " ('awesome', 1),\n",
       " ('sky', 1),\n",
       " ('pinkish', 1)]"
      ]
     },
     "execution_count": 10,
     "metadata": {},
     "output_type": "execute_result"
    }
   ],
   "source": [
    "common_words = word_freq.most_common(10)\n",
    "common_words"
   ]
  },
  {
   "cell_type": "markdown",
   "metadata": {},
   "source": [
    "### Get the frequency of word - \"weather\""
   ]
  },
  {
   "cell_type": "code",
   "execution_count": 11,
   "metadata": {},
   "outputs": [
    {
     "data": {
      "text/plain": [
       "1"
      ]
     },
     "execution_count": 11,
     "metadata": {},
     "output_type": "execute_result"
    }
   ],
   "source": [
    "word_freq['weather']"
   ]
  },
  {
   "cell_type": "code",
   "execution_count": null,
   "metadata": {},
   "outputs": [],
   "source": []
  }
 ],
 "metadata": {
  "kernelspec": {
   "display_name": "Python 3",
   "language": "python",
   "name": "python3"
  },
  "language_info": {
   "codemirror_mode": {
    "name": "ipython",
    "version": 3
   },
   "file_extension": ".py",
   "mimetype": "text/x-python",
   "name": "python",
   "nbconvert_exporter": "python",
   "pygments_lexer": "ipython3",
   "version": "3.8.5"
  }
 },
 "nbformat": 4,
 "nbformat_minor": 4
}
