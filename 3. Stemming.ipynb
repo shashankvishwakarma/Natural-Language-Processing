{
 "cells": [
  {
   "cell_type": "code",
   "execution_count": 1,
   "metadata": {},
   "outputs": [],
   "source": [
    "word_list1 = ['compute', 'computer', 'computed', 'computing']\n",
    "word_list2 = [\"studies\",\"leaves\",\"decreases\",\"plays\"]\n",
    "word_list3 = [\"Study\",\"Studying\",\"Studies\",\"Studied\"]\n",
    "word_list4 = [\"python\",\"pythoner\",\"pythoning\",\"pythoned\",\"pythonly\"]\n",
    "word_list5 = [\"am\",\"is\",\"are\",\"was\",\"were\"]"
   ]
  },
  {
   "cell_type": "markdown",
   "metadata": {},
   "source": [
    "### Porter Stemmer"
   ]
  },
  {
   "cell_type": "code",
   "execution_count": 2,
   "metadata": {},
   "outputs": [],
   "source": [
    "from nltk.stem import PorterStemmer\n",
    "stemmer = PorterStemmer()"
   ]
  },
  {
   "cell_type": "code",
   "execution_count": 3,
   "metadata": {},
   "outputs": [
    {
     "name": "stdout",
     "output_type": "stream",
     "text": [
      "compute         comput         \n",
      "computer        comput         \n",
      "computed        comput         \n",
      "computing       comput         \n"
     ]
    }
   ],
   "source": [
    "for token in word_list1:\n",
    "    print(f'{token:15} {stemmer.stem(token):15}')"
   ]
  },
  {
   "cell_type": "code",
   "execution_count": 4,
   "metadata": {},
   "outputs": [
    {
     "name": "stdout",
     "output_type": "stream",
     "text": [
      "studies         studi          \n",
      "leaves          leav           \n",
      "decreases       decreas        \n",
      "plays           play           \n"
     ]
    }
   ],
   "source": [
    "for token in word_list2:\n",
    "    print(f'{token:15} {stemmer.stem(token):15}')"
   ]
  },
  {
   "cell_type": "code",
   "execution_count": 5,
   "metadata": {},
   "outputs": [
    {
     "name": "stdout",
     "output_type": "stream",
     "text": [
      "Study           studi          \n",
      "Studying        studi          \n",
      "Studies         studi          \n",
      "Studied         studi          \n"
     ]
    }
   ],
   "source": [
    "for token in word_list3:\n",
    "    print(f'{token:15} {stemmer.stem(token):15}')"
   ]
  },
  {
   "cell_type": "code",
   "execution_count": 6,
   "metadata": {},
   "outputs": [
    {
     "name": "stdout",
     "output_type": "stream",
     "text": [
      "python          python         \n",
      "pythoner        python         \n",
      "pythoning       python         \n",
      "pythoned        python         \n",
      "pythonly        pythonli       \n"
     ]
    }
   ],
   "source": [
    "for token in word_list4:\n",
    "    print(f'{token:15} {stemmer.stem(token):15}')"
   ]
  },
  {
   "cell_type": "code",
   "execution_count": 7,
   "metadata": {},
   "outputs": [
    {
     "name": "stdout",
     "output_type": "stream",
     "text": [
      "am              am             \n",
      "is              is             \n",
      "are             are            \n",
      "was             wa             \n",
      "were            were           \n"
     ]
    }
   ],
   "source": [
    "for token in word_list5:\n",
    "    print(f'{token:15} {stemmer.stem(token):15}')"
   ]
  },
  {
   "cell_type": "markdown",
   "metadata": {},
   "source": [
    "### Snowball Stemmer"
   ]
  },
  {
   "cell_type": "code",
   "execution_count": 8,
   "metadata": {},
   "outputs": [],
   "source": [
    "from nltk.stem.snowball import SnowballStemmer"
   ]
  },
  {
   "cell_type": "code",
   "execution_count": 9,
   "metadata": {},
   "outputs": [
    {
     "data": {
      "text/plain": [
       "('arabic',\n",
       " 'danish',\n",
       " 'dutch',\n",
       " 'english',\n",
       " 'finnish',\n",
       " 'french',\n",
       " 'german',\n",
       " 'hungarian',\n",
       " 'italian',\n",
       " 'norwegian',\n",
       " 'porter',\n",
       " 'portuguese',\n",
       " 'romanian',\n",
       " 'russian',\n",
       " 'spanish',\n",
       " 'swedish')"
      ]
     },
     "execution_count": 9,
     "metadata": {},
     "output_type": "execute_result"
    }
   ],
   "source": [
    "SnowballStemmer.languages"
   ]
  },
  {
   "cell_type": "code",
   "execution_count": 10,
   "metadata": {},
   "outputs": [],
   "source": [
    "stemmer = SnowballStemmer(language='english')"
   ]
  },
  {
   "cell_type": "code",
   "execution_count": 11,
   "metadata": {},
   "outputs": [
    {
     "name": "stdout",
     "output_type": "stream",
     "text": [
      "compute         comput         \n",
      "computer        comput         \n",
      "computed        comput         \n",
      "computing       comput         \n"
     ]
    }
   ],
   "source": [
    "for token in word_list1:\n",
    "    print(f'{token:15} {stemmer.stem(token):15}')"
   ]
  },
  {
   "cell_type": "code",
   "execution_count": 12,
   "metadata": {},
   "outputs": [
    {
     "name": "stdout",
     "output_type": "stream",
     "text": [
      "studies         studi          \n",
      "leaves          leav           \n",
      "decreases       decreas        \n",
      "plays           play           \n"
     ]
    }
   ],
   "source": [
    "for token in word_list2:\n",
    "    print(f'{token:15} {stemmer.stem(token):15}')"
   ]
  },
  {
   "cell_type": "code",
   "execution_count": 13,
   "metadata": {},
   "outputs": [
    {
     "name": "stdout",
     "output_type": "stream",
     "text": [
      "Study           studi          \n",
      "Studying        studi          \n",
      "Studies         studi          \n",
      "Studied         studi          \n"
     ]
    }
   ],
   "source": [
    "for token in word_list3:\n",
    "    print(f'{token:15} {stemmer.stem(token):15}')"
   ]
  },
  {
   "cell_type": "code",
   "execution_count": 14,
   "metadata": {},
   "outputs": [
    {
     "name": "stdout",
     "output_type": "stream",
     "text": [
      "python          python         \n",
      "pythoner        python         \n",
      "pythoning       python         \n",
      "pythoned        python         \n",
      "pythonly        python         \n"
     ]
    }
   ],
   "source": [
    "for token in word_list4:\n",
    "    print(f'{token:15} {stemmer.stem(token):15}')"
   ]
  },
  {
   "cell_type": "code",
   "execution_count": 15,
   "metadata": {},
   "outputs": [
    {
     "name": "stdout",
     "output_type": "stream",
     "text": [
      "am              am             \n",
      "is              is             \n",
      "are             are            \n",
      "was             was            \n",
      "were            were           \n"
     ]
    }
   ],
   "source": [
    "for token in word_list5:\n",
    "    print(f'{token:15} {stemmer.stem(token):15}')"
   ]
  },
  {
   "cell_type": "markdown",
   "metadata": {},
   "source": [
    "#### spaCy doesn’t have a stemming library as they prefer lemmatization over stemmer while NLTK has both stemmer and lemmatizer"
   ]
  },
  {
   "cell_type": "code",
   "execution_count": null,
   "metadata": {},
   "outputs": [],
   "source": []
  }
 ],
 "metadata": {
  "kernelspec": {
   "display_name": "Python 3",
   "language": "python",
   "name": "python3"
  },
  "language_info": {
   "codemirror_mode": {
    "name": "ipython",
    "version": 3
   },
   "file_extension": ".py",
   "mimetype": "text/x-python",
   "name": "python",
   "nbconvert_exporter": "python",
   "pygments_lexer": "ipython3",
   "version": "3.8.5"
  }
 },
 "nbformat": 4,
 "nbformat_minor": 4
}
