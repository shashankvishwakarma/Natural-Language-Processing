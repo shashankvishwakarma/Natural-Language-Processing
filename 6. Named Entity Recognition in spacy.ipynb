{
 "cells": [
  {
   "cell_type": "code",
   "execution_count": 1,
   "metadata": {},
   "outputs": [],
   "source": [
    "import spacy\n",
    "nlp = spacy.load(\"en_core_web_sm\")"
   ]
  },
  {
   "cell_type": "markdown",
   "metadata": {},
   "source": [
    "### Example 1 "
   ]
  },
  {
   "cell_type": "code",
   "execution_count": 2,
   "metadata": {},
   "outputs": [],
   "source": [
    "sentence = nlp(\"Mr. Smith made a deal on a beach of Switzerland near WHO.\")"
   ]
  },
  {
   "cell_type": "markdown",
   "metadata": {},
   "source": [
    "#### Named Entity Recognition"
   ]
  },
  {
   "cell_type": "code",
   "execution_count": 3,
   "metadata": {},
   "outputs": [
    {
     "name": "stdout",
     "output_type": "stream",
     "text": [
      "Smith               4          9 PERSON               People, including fictional\n",
      "Switzerland         36         47 GPE                  Countries, cities, states\n",
      "WHO                53         56 ORG                  Companies, agencies, institutions, etc.\n"
     ]
    }
   ],
   "source": [
    "for ent in sentence.ents:\n",
    "    print(f'{ent.text:10} {ent.start_char:10} {ent.end_char:10} {ent.label_:20} {spacy.explain(ent.label_):20}')"
   ]
  },
  {
   "cell_type": "markdown",
   "metadata": {},
   "source": [
    "### Example 2"
   ]
  },
  {
   "cell_type": "code",
   "execution_count": 4,
   "metadata": {},
   "outputs": [],
   "source": [
    "sentence = nlp('Most of the outlay will be at home. No surprise there, either. ' \\\n",
    "            'While Samsung has expanded overseas, South Korea is still host to most of its factories and research engineers.')"
   ]
  },
  {
   "cell_type": "markdown",
   "metadata": {},
   "source": [
    "#### Named Entity Recognition"
   ]
  },
  {
   "cell_type": "code",
   "execution_count": 5,
   "metadata": {},
   "outputs": [
    {
     "name": "stdout",
     "output_type": "stream",
     "text": [
      "Samsung            69         76 ORG                  Companies, agencies, institutions, etc.\n",
      "South Korea        100        111 GPE                  Countries, cities, states\n"
     ]
    }
   ],
   "source": [
    "for ent in sentence.ents:\n",
    "    print(f'{ent.text:10} {ent.start_char:10} {ent.end_char:10} {ent.label_:20} {spacy.explain(ent.label_):20}')"
   ]
  },
  {
   "cell_type": "markdown",
   "metadata": {},
   "source": [
    "### Example 3"
   ]
  },
  {
   "cell_type": "code",
   "execution_count": 6,
   "metadata": {},
   "outputs": [],
   "source": [
    "sentence = nlp('Great Piano Academy is situated' \\\n",
    "            ' in Mayfair or the City of London and has' \\\n",
    "            ' world-class piano instructors.')"
   ]
  },
  {
   "cell_type": "markdown",
   "metadata": {},
   "source": [
    "#### Named Entity Recognition"
   ]
  },
  {
   "cell_type": "code",
   "execution_count": 7,
   "metadata": {},
   "outputs": [
    {
     "name": "stdout",
     "output_type": "stream",
     "text": [
      "Great Piano Academy               0         19 ORG                  Companies, agencies, institutions, etc.\n",
      "Mayfair                      35         42 LOC                  Non-GPE locations, mountain ranges, bodies of water\n",
      "the City of London              46         64 GPE                  Countries, cities, states\n"
     ]
    }
   ],
   "source": [
    "for ent in sentence.ents:\n",
    "    print(f'{ent.text:15} {ent.start_char:15} {ent.end_char:10} {ent.label_:20} {spacy.explain(ent.label_):20}')"
   ]
  },
  {
   "cell_type": "code",
   "execution_count": null,
   "metadata": {},
   "outputs": [],
   "source": []
  }
 ],
 "metadata": {
  "kernelspec": {
   "display_name": "Python 3",
   "language": "python",
   "name": "python3"
  },
  "language_info": {
   "codemirror_mode": {
    "name": "ipython",
    "version": 3
   },
   "file_extension": ".py",
   "mimetype": "text/x-python",
   "name": "python",
   "nbconvert_exporter": "python",
   "pygments_lexer": "ipython3",
   "version": "3.8.5"
  }
 },
 "nbformat": 4,
 "nbformat_minor": 4
}
